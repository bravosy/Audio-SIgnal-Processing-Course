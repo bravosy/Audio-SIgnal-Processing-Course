{
 "metadata": {
  "name": ""
 },
 "nbformat": 3,
 "nbformat_minor": 0,
 "worksheets": [
  {
   "cells": [
    {
     "cell_type": "heading",
     "level": 2,
     "metadata": {},
     "source": [
      "P1"
     ]
    },
    {
     "cell_type": "code",
     "collapsed": false,
     "input": [
      "def readAudio(inputFile):\n",
      "\tfrom scipy.io.wavfile import read\n",
      "\timport numpy as np\n",
      "\t(fs,data) = read(inputFile)\n",
      "\tdata = np.array(data,dtype='float32') / float(2**15-1)\n",
      "#\tdata1 = np.array(data,dtype='float32')/ (2**31)\n",
      "\treturn fs,data\n",
      "\n",
      "fs, data  = readAudio('/home/lsy/dsp/sms-tools/sounds/piano.wav')\n",
      "print data[50000:50000+10]\n",
      "print min(data)"
     ],
     "language": "python",
     "metadata": {},
     "outputs": [
      {
       "output_type": "stream",
       "stream": "stdout",
       "text": [
        "[-0.06213569 -0.04541154 -0.02734458 -0.0093997   0.00769066  0.02319407\n",
        "  0.03503525  0.04309214  0.04626606  0.0441908 ]\n",
        "-0.580828\n"
       ]
      }
     ],
     "prompt_number": 47
    },
    {
     "cell_type": "code",
     "collapsed": false,
     "input": [
      "plot(data)"
     ],
     "language": "python",
     "metadata": {},
     "outputs": [
      {
       "metadata": {},
       "output_type": "pyout",
       "prompt_number": 44,
       "text": [
        "[<matplotlib.lines.Line2D at 0xae09cccc>]"
       ]
      },
      {
       "metadata": {},
       "output_type": "display_data",
       "png": "[encoded data removed]",
       "text": [
        "<matplotlib.figure.Figure at 0xadf9c26c>"
       ]
      }
     ],
     "prompt_number": 44
    },
    {
     "cell_type": "heading",
     "level": 2,
     "metadata": {},
     "source": [
      "P2"
     ]
    },
    {
     "cell_type": "code",
     "collapsed": false,
     "input": [
      "def minMaxAudio(inputFile):\n",
      "    import numpy as np\n",
      "    fs, data = readAudio(inputFile)\n",
      "    minAudio, maxAudio = np.min(data), np.max(data)\n",
      "    return (minAudio,maxAudio)\n",
      "    \n",
      "minAudio, maxAudio = minMaxAudio('/home/lsy/dsp/sms-tools/sounds/piano.wav') \n",
      "print minAudio, maxAudio"
     ],
     "language": "python",
     "metadata": {},
     "outputs": [
      {
       "output_type": "stream",
       "stream": "stdout",
       "text": [
        "-0.580828 0.480117\n"
       ]
      }
     ],
     "prompt_number": 45
    },
    {
     "cell_type": "heading",
     "level": 2,
     "metadata": {},
     "source": [
      "P3"
     ]
    },
    {
     "cell_type": "code",
     "collapsed": false,
     "input": [
      "def hopSamples(x,N):\n",
      "    return x[0:-1:N]\n",
      "\n",
      "x = np.arange(20)\n",
      "\n",
      "hop = hopSamples(x,3)\n",
      "print hop"
     ],
     "language": "python",
     "metadata": {},
     "outputs": [
      {
       "output_type": "stream",
       "stream": "stdout",
       "text": [
        "[ 0  3  6  9 12 15 18]\n"
       ]
      }
     ],
     "prompt_number": 52
    },
    {
     "cell_type": "code",
     "collapsed": false,
     "input": [],
     "language": "python",
     "metadata": {},
     "outputs": []
    }
   ],
   "metadata": {}
  }
 ]
}