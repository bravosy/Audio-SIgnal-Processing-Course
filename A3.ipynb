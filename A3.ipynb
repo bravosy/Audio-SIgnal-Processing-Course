{
 "metadata": {
  "name": ""
 },
 "nbformat": 3,
 "nbformat_minor": 0,
 "worksheets": [
  {
   "cells": [
    {
     "cell_type": "heading",
     "level": 1,
     "metadata": {},
     "source": [
      "P1"
     ]
    },
    {
     "cell_type": "heading",
     "level": 2,
     "metadata": {},
     "source": [
      "minimize energy spread in DFT sinusoids\n",
      "input: 2 input signals, f1 = 80Hz, f2 = 200Hz, fs = 10000Hz\n",
      "output: spectrum with 2 peaks"
     ]
    },
    {
     "cell_type": "raw",
     "metadata": {},
     "source": [
      "use M samples to calculate the spectrum.\n",
      "M samples contain multiple cycle of f1 and f2 sinuisods."
     ]
    },
    {
     "cell_type": "code",
     "collapsed": false,
     "input": [
      "import numpy as np\n",
      "from numpy import cos, pi\n",
      "from fractions import gcd\n",
      "from scipy.fftpack import fft\n",
      "\n",
      "fs = 48000\n",
      "f1 = 300\n",
      "f2 = 800\n",
      "t = np.arange(0,1,1.0/fs)"
     ],
     "language": "python",
     "metadata": {},
     "outputs": [],
     "prompt_number": 52
    },
    {
     "cell_type": "code",
     "collapsed": false,
     "input": [
      "m1 = cos(2*pi*f1*t)\n",
      "m2 = cos(2*pi*f2*t)\n",
      "signal = m1 + m2    #input\n",
      "\n",
      "f0 = gcd(f1,f2) #find the fundamental frequency of f1 and f2\n",
      "t0 = 1.0/f0     #fundamental period\n",
      "M = fs * t0     #signal length\n",
      "print M\n",
      "N = 1024         #FFT size"
     ],
     "language": "python",
     "metadata": {},
     "outputs": [
      {
       "output_type": "stream",
       "stream": "stdout",
       "text": [
        "480.0\n"
       ]
      }
     ],
     "prompt_number": 53
    },
    {
     "cell_type": "code",
     "collapsed": false,
     "input": [
      "m1_M = m1[0:M]\n",
      "m2_M = m2[0:M]\n",
      "signal_M = signal[0:M]\n",
      "   "
     ],
     "language": "python",
     "metadata": {},
     "outputs": [],
     "prompt_number": 54
    },
    {
     "cell_type": "code",
     "collapsed": false,
     "input": [
      "SIGNAL = fft(signal_M)\n",
      "fx = np.linspace(0,fs/2,M/2+1)\n",
      "print SIGNAL[8]\n",
      "stem(fx,abs(SIGNAL[0:M/2+1]))"
     ],
     "language": "python",
     "metadata": {},
     "outputs": [
      {
       "output_type": "stream",
       "stream": "stdout",
       "text": [
        "(240-2.12203807461e-13j)\n"
       ]
      },
      {
       "metadata": {},
       "output_type": "pyout",
       "prompt_number": 58,
       "text": [
        "<Container object of 3 artists>"
       ]
      },
      {
       "metadata": {},
       "output_type": "display_data",
       "png": "[encoded data removed]",
       "text": [
        "<matplotlib.figure.Figure at 0xac1ac3ac>"
       ]
      }
     ],
     "prompt_number": 58
    },
    {
     "cell_type": "heading",
     "level": 1,
     "metadata": {},
     "source": [
      "P2"
     ]
    },
    {
     "cell_type": "code",
     "collapsed": false,
     "input": [
      "#zero padding def\n",
      "def zeroPadding(x,N):\n",
      "    length = len(x)\n",
      "    hm1 = floor((length+1.0)/2)\n",
      "    hm2 = floor(length/2)\n",
      "    dftbuffer = np.zeros(N)\n",
      "    dftbuffer[:hm1] = x[hm2:]\n",
      "    dftbuffer[-hm2:] = x[:hm2]\n",
      "    return dftbuffer\n",
      "signal_pad0 = zeroPadding(signal_M,N) \n",
      "fSignal = fft(signal_pad0)\n",
      "\n",
      "print len(m1_M)\n",
      "x = np.zeros(N)\n",
      "x[0:M] = signal_M\n",
      "stem(abs(fSignal))\n",
      "#stem(abs(fft(x)))"
     ],
     "language": "python",
     "metadata": {},
     "outputs": [
      {
       "output_type": "stream",
       "stream": "stdout",
       "text": [
        "480\n"
       ]
      },
      {
       "metadata": {},
       "output_type": "pyout",
       "prompt_number": 72,
       "text": [
        "<Container object of 3 artists>"
       ]
      },
      {
       "metadata": {},
       "output_type": "display_data",
       "png": "[encoded data removed]",
       "text": [
        "<matplotlib.figure.Figure at 0xa8d4612c>"
       ]
      }
     ],
     "prompt_number": 72
    },
    {
     "cell_type": "code",
     "collapsed": false,
     "input": [
      "stem(abs(fft(signal_M)))"
     ],
     "language": "python",
     "metadata": {},
     "outputs": [
      {
       "metadata": {},
       "output_type": "pyout",
       "prompt_number": 70,
       "text": [
        "<Container object of 3 artists>"
       ]
      },
      {
       "metadata": {},
       "output_type": "display_data",
       "png": "[encoded data removed]",
       "text": [
        "<matplotlib.figure.Figure at 0xa965f76c>"
       ]
      }
     ],
     "prompt_number": 70
    },
    {
     "cell_type": "code",
     "collapsed": false,
     "input": [],
     "language": "python",
     "metadata": {},
     "outputs": []
    }
   ],
   "metadata": {}
  }
 ]
}